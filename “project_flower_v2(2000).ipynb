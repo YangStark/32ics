{
  "nbformat": 4,
  "nbformat_minor": 0,
  "metadata": {
    "colab": {
      "name": "“project flower v2(2000).ipynb",
      "version": "0.3.2",
      "provenance": [],
      "include_colab_link": true
    },
    "kernelspec": {
      "name": "python3",
      "display_name": "Python 3"
    },
    "accelerator": "GPU"
  },
  "cells": [
    {
      "cell_type": "markdown",
      "metadata": {
        "id": "view-in-github",
        "colab_type": "text"
      },
      "source": [
        "<a href=\"https://colab.research.google.com/github/YangStark/32ics/blob/master/%E2%80%9Cproject_flower_v2(2000).ipynb\" target=\"_parent\"><img src=\"https://colab.research.google.com/assets/colab-badge.svg\" alt=\"Open In Colab\"/></a>"
      ]
    },
    {
      "metadata": {
        "id": "3yN8sP0dpqRc",
        "colab_type": "code",
        "outputId": "0113b6b6-4609-4e6c-edea-fb68f9e55e77",
        "colab": {
          "base_uri": "https://localhost:8080/",
          "height": 35
        }
      },
      "cell_type": "code",
      "source": [
        "import math\n",
        "import numpy as np\n",
        "import PIL\n",
        "import tensorflow as tf\n",
        "from tensorflow.python.framework import ops\n",
        "from google.colab import files\n",
        "import matplotlib.pyplot as plt\n",
        "\n",
        "from io import BytesIO\n",
        "from google.colab import drive\n",
        "from scipy.io import loadmat\n",
        "\n",
        "drive.mount('/content/drive')\n"
      ],
      "execution_count": 1,
      "outputs": [
        {
          "output_type": "stream",
          "text": [
            "Drive already mounted at /content/drive; to attempt to forcibly remount, call drive.mount(\"/content/drive\", force_remount=True).\n"
          ],
          "name": "stdout"
        }
      ]
    },
    {
      "metadata": {
        "id": "w-SYWagJu-xZ",
        "colab_type": "code",
        "outputId": "ba8310e4-0e1c-4ac7-86b1-655246bf747b",
        "colab": {
          "base_uri": "https://localhost:8080/",
          "height": 208
        }
      },
      "cell_type": "code",
      "source": [
        "!ls \"/content/drive/My Drive/\""
      ],
      "execution_count": 2,
      "outputs": [
        {
          "output_type": "stream",
          "text": [
            "'AP first draft.gdoc'\t\t\t   'project flower'\n",
            "'Colab Notebooks'\t\t\t   'PS 1.00.gdoc'\n",
            "'Copy of 伊織もえTwitter画像集　2015.zip'  'SOP and PS.gdoc'\n",
            " draft1.gdoc\t\t\t\t   'unofficial trans.pdf'\n",
            "'Fishing for Billions.gslides'\t\t   'Untitled folder'\n",
            " Hw5.pdf\t\t\t\t   'Untitled presentation.gslides'\n",
            "'Ikko Japanese Cuisine.docx'\t\t   'WR39C .gslides'\n",
            "'Ikko Japanese Cuisine.docx.gdoc'\t   'Zian Yang Essay.docx'\n",
            "'Ikko Japanese Cuisine.gdoc'\t\t   'Zian Yang Essay.docx.gdoc'\n",
            " newsu.gdoc\t\t\t\t   'ZIAN YANG NEW - ELC.pdf'\n",
            " presentation.gslides\n"
          ],
          "name": "stdout"
        }
      ]
    },
    {
      "metadata": {
        "id": "td7QLckou-uv",
        "colab_type": "code",
        "colab": {}
      },
      "cell_type": "code",
      "source": [
        "!cp \"/content/drive/My Drive/project flower/same res/image_00001.jpg\" sample_data/###复制文件###\n"
      ],
      "execution_count": 0,
      "outputs": []
    },
    {
      "metadata": {
        "id": "D1ZUo89Mu-tP",
        "colab_type": "code",
        "outputId": "bfd204e5-03f7-43a7-9842-81f149f54bdc",
        "colab": {
          "base_uri": "https://localhost:8080/",
          "height": 35
        }
      },
      "cell_type": "code",
      "source": [
        "openf = PIL.Image.open(\"/content/drive/My Drive/project flower/same res/image_08189.jpg\")\n",
        "print(openf)\n",
        "openf.show()"
      ],
      "execution_count": 4,
      "outputs": [
        {
          "output_type": "stream",
          "text": [
            "<PIL.JpegImagePlugin.JpegImageFile image mode=RGB size=255x255 at 0x7FE2DA132F28>\n"
          ],
          "name": "stdout"
        }
      ]
    },
    {
      "metadata": {
        "id": "Ky530YHpu-YD",
        "colab_type": "code",
        "outputId": "5ba2db10-8dec-49fd-f6b9-5bc56745c0a0",
        "colab": {
          "base_uri": "https://localhost:8080/",
          "height": 121
        }
      },
      "cell_type": "code",
      "source": [
        "def load_dataset_x(n:int):###first n training examples\n",
        "    \n",
        "    rt = np.zeros((n,195075))\n",
        "\n",
        "    for i in range(1,n+1):\n",
        "        \n",
        "        ###load image to new_sample###\n",
        "        str_num = (4-len(str(i)))*\"0\"+str(i)\n",
        "        new_sample = np.array(PIL.Image.open(\"/content/drive/My Drive/project flower/same res/image_0\"+str_num+\".jpg\"))\n",
        "        assert new_sample.shape == (255,255,3)\n",
        "        \n",
        "        ###turn image vector into row vector and add to the bottom of rt###\n",
        "        rt[i-1] = new_sample.reshape(1,195075)\n",
        "        \n",
        "        ###every 100 sample print\n",
        "        if i % 400 == 0:\n",
        "            print(i)\n",
        "\n",
        "        \n",
        "    return rt.T\n",
        "\n",
        "training_data = load_dataset_x(2000)\n",
        "print(training_data.shape)\n",
        "      "
      ],
      "execution_count": 5,
      "outputs": [
        {
          "output_type": "stream",
          "text": [
            "400\n",
            "800\n",
            "1200\n",
            "1600\n",
            "2000\n",
            "(195075, 2000)\n"
          ],
          "name": "stdout"
        }
      ]
    },
    {
      "metadata": {
        "id": "K9I6xMca_-09",
        "colab_type": "code",
        "outputId": "cd001e15-3808-490b-a36c-8a3d3c4848da",
        "colab": {
          "base_uri": "https://localhost:8080/",
          "height": 35
        }
      },
      "cell_type": "code",
      "source": [
        "print(\"size of training data is\"+str(training_data.shape))"
      ],
      "execution_count": 6,
      "outputs": [
        {
          "output_type": "stream",
          "text": [
            "size of training data is(195075, 2000)\n"
          ],
          "name": "stdout"
        }
      ]
    },
    {
      "metadata": {
        "id": "zLWD482j__AE",
        "colab_type": "code",
        "colab": {}
      },
      "cell_type": "code",
      "source": [
        "def load_label_y(n:int):###first n training labels\n",
        "    \n",
        "    ### this dataset has 120 different kinds of flowers\n",
        "    rt =  np.zeros((n,120))\n",
        "\n",
        "    ###load labels into an row vector\n",
        "    labels = loadmat(\"/content/drive/My Drive/project flower/imagelabels.mat\")[\"labels\"][0][:n]\n",
        "\n",
        "    print(\"training labels is\"+str(labels)+\",\"+\"it has shape of\"+str(labels.shape))\n",
        "    \n",
        "    for i in range(1,n+1):\n",
        "        rt[i-1][labels[i-1]-1] = 1\n",
        "    \n",
        "    ###we want shape of label = 120 x n\n",
        "    return rt.T"
      ],
      "execution_count": 0,
      "outputs": []
    },
    {
      "metadata": {
        "id": "0jyCiv_V__F9",
        "colab_type": "code",
        "outputId": "136337e9-7811-444f-b1d9-6303885da4dd",
        "colab": {
          "base_uri": "https://localhost:8080/",
          "height": 52
        }
      },
      "cell_type": "code",
      "source": [
        "training_data_label = load_label_y(2000)\n",
        "print(training_data_label.shape)"
      ],
      "execution_count": 8,
      "outputs": [
        {
          "output_type": "stream",
          "text": [
            "training labels is[77 77 77 ... 80 80 80],it has shape of(2000,)\n",
            "(120, 2000)\n"
          ],
          "name": "stdout"
        }
      ]
    },
    {
      "metadata": {
        "id": "hSSRnAbf__I0",
        "colab_type": "code",
        "outputId": "5d039df1-5a7d-4f84-c5f3-fa2c0ec98271",
        "colab": {
          "base_uri": "https://localhost:8080/",
          "height": 277
        }
      },
      "cell_type": "code",
      "source": [
        "###make sure the data is correct\n",
        "print(\"the last label transformed to row vector looks like:\")\n",
        "print(training_data_label.T[1999])\n",
        "print()\n",
        "labels = loadmat(\"/content/drive/My Drive/project flower/imagelabels.mat\")[\"labels\"][0][1999]\n",
        "print(\"the original label looks like:\")\n",
        "print(labels)\n",
        "print()\n",
        "print(\"training_data_label.T[1999][11] == 1\")\n",
        "print(training_data_label.T[1999][11] == 1)\n",
        "print()\n",
        "print()\n",
        "print(\"Note: the number on original label example(i) correspond to training_data_label[i][number-1]\")"
      ],
      "execution_count": 9,
      "outputs": [
        {
          "output_type": "stream",
          "text": [
            "the last label transformed to row vector looks like:\n",
            "[0. 0. 0. 0. 0. 0. 0. 0. 0. 0. 0. 0. 0. 0. 0. 0. 0. 0. 0. 0. 0. 0. 0. 0.\n",
            " 0. 0. 0. 0. 0. 0. 0. 0. 0. 0. 0. 0. 0. 0. 0. 0. 0. 0. 0. 0. 0. 0. 0. 0.\n",
            " 0. 0. 0. 0. 0. 0. 0. 0. 0. 0. 0. 0. 0. 0. 0. 0. 0. 0. 0. 0. 0. 0. 0. 0.\n",
            " 0. 0. 0. 0. 0. 0. 0. 1. 0. 0. 0. 0. 0. 0. 0. 0. 0. 0. 0. 0. 0. 0. 0. 0.\n",
            " 0. 0. 0. 0. 0. 0. 0. 0. 0. 0. 0. 0. 0. 0. 0. 0. 0. 0. 0. 0. 0. 0. 0. 0.]\n",
            "\n",
            "the original label looks like:\n",
            "80\n",
            "\n",
            "training_data_label.T[1999][11] == 1\n",
            "False\n",
            "\n",
            "\n",
            "Note: the number on original label example(i) correspond to training_data_label[i][number-1]\n"
          ],
          "name": "stdout"
        }
      ]
    },
    {
      "metadata": {
        "id": "gxDpuHwH__LQ",
        "colab_type": "code",
        "outputId": "02c0164a-4231-43ed-b89b-08788b7a0962",
        "colab": {
          "base_uri": "https://localhost:8080/",
          "height": 52
        }
      },
      "cell_type": "code",
      "source": [
        "X_train = training_data\n",
        "Y_train = training_data_label\n",
        "print (\"X_train shape: \" + str(X_train.shape))\n",
        "print (\"Y_train shape: \" + str(Y_train.shape))"
      ],
      "execution_count": 10,
      "outputs": [
        {
          "output_type": "stream",
          "text": [
            "X_train shape: (195075, 2000)\n",
            "Y_train shape: (120, 2000)\n"
          ],
          "name": "stdout"
        }
      ]
    },
    {
      "metadata": {
        "id": "WGq3l_7hyH8v",
        "colab_type": "code",
        "colab": {}
      },
      "cell_type": "code",
      "source": [
        "def create_placeholders(n_x,n_y):\n",
        "    \"\"\"\n",
        "    create placeholder for input x and output y for tensorflow session\n",
        "    \n",
        "    n_x scalar : size of an image vector (195075) in this case\n",
        "    n_y scalar : size of number of classes (120) in this case\n",
        "    \n",
        "    return X, Y  X.shape ==[n_x,None] and dtype float Y.shape == [n_x,None] and dtype float\n",
        "    \"\"\"\n",
        "    X = tf.placeholder(tf.float32,shape = (n_x,None),name = \"X\")\n",
        "    Y = tf.placeholder(tf.float32,shape = (n_y,None),name = \"Y\")\n",
        "    \n",
        "    return X,Y\n",
        "    "
      ],
      "execution_count": 0,
      "outputs": []
    },
    {
      "metadata": {
        "id": "aJoFWlQxyIKP",
        "colab_type": "code",
        "outputId": "d8815e88-775f-4fbd-842e-5dff9f5baed6",
        "colab": {
          "base_uri": "https://localhost:8080/",
          "height": 52
        }
      },
      "cell_type": "code",
      "source": [
        "X,Y  = create_placeholders(195075,120)\n",
        "print (\"X = \" + str(X))\n",
        "print (\"Y = \" + str(Y))"
      ],
      "execution_count": 12,
      "outputs": [
        {
          "output_type": "stream",
          "text": [
            "X = Tensor(\"X:0\", shape=(195075, ?), dtype=float32)\n",
            "Y = Tensor(\"Y:0\", shape=(120, ?), dtype=float32)\n"
          ],
          "name": "stdout"
        }
      ]
    },
    {
      "metadata": {
        "id": "ePzRlp-kyIMi",
        "colab_type": "code",
        "colab": {}
      },
      "cell_type": "code",
      "source": [
        "def initialize_parameters():\n",
        "    \"\"\"\n",
        "    initialize parameters for tensorflow, the shapes are:\n",
        "    W1 : [128,195075]\n",
        "    b1 : [128,1     ]\n",
        "    W2 : [20 ,128   ]\n",
        "    b2 : [20 ,1     ]\n",
        "    W3 : [8  ,20    ]\n",
        "    b3 : [8  ,1     ]\n",
        "    W4 : [120,8     ]\n",
        "    b4 : [120,1     ]\n",
        "    \n",
        "    returns:\n",
        "    parameters -- a dict of tensors containing W1,b1 to W4,b4\n",
        "    \"\"\"\n",
        "    tf.set_random_seed(1)\n",
        "    \n",
        "    W1 = tf.get_variable(\"W1\",[128,195075], initializer = tf.contrib.layers.xavier_initializer(seed = 1))\n",
        "    b1 = tf.get_variable(\"b1\",[128,1     ], initializer = tf.zeros_initializer())\n",
        "    W2 = tf.get_variable(\"W2\",[20 ,128   ], initializer = tf.contrib.layers.xavier_initializer(seed = 1))\n",
        "    b2 = tf.get_variable(\"b2\",[20 ,1     ], initializer = tf.zeros_initializer())\n",
        "    W3 = tf.get_variable(\"W3\",[8  ,20    ], initializer = tf.contrib.layers.xavier_initializer(seed = 1))\n",
        "    b3 = tf.get_variable(\"b3\",[8  ,1     ], initializer = tf.zeros_initializer())\n",
        "    W4 = tf.get_variable(\"W4\",[120,8     ], initializer = tf.contrib.layers.xavier_initializer(seed = 1))\n",
        "    b4 = tf.get_variable(\"b4\",[120,1     ], initializer = tf.zeros_initializer())\n",
        "    \n",
        "    parameters = {\"W1\":W1,\n",
        "                  \"W2\":W2,\n",
        "                  \"W3\":W3,\n",
        "                  \"W4\":W4,\n",
        "                  \"b1\":b1,\n",
        "                  \"b2\":b2,\n",
        "                  \"b3\":b3,\n",
        "                  \"b4\":b4}\n",
        "    return parameters\n",
        "    "
      ],
      "execution_count": 0,
      "outputs": []
    },
    {
      "metadata": {
        "id": "rkNFtpr2yIPI",
        "colab_type": "code",
        "outputId": "9e2df70a-000f-4a1f-8fd0-d98a43fe7fdb",
        "colab": {
          "base_uri": "https://localhost:8080/",
          "height": 156
        }
      },
      "cell_type": "code",
      "source": [
        "tf.reset_default_graph()\n",
        "with tf.Session() as sess:\n",
        "    parameters = initialize_parameters()\n",
        "    for key,value in parameters.items():\n",
        "        print(\"key is \"+str(key)+\", value is \"+str(value))"
      ],
      "execution_count": 14,
      "outputs": [
        {
          "output_type": "stream",
          "text": [
            "key is W1, value is <tf.Variable 'W1:0' shape=(128, 195075) dtype=float32_ref>\n",
            "key is W2, value is <tf.Variable 'W2:0' shape=(20, 128) dtype=float32_ref>\n",
            "key is W3, value is <tf.Variable 'W3:0' shape=(8, 20) dtype=float32_ref>\n",
            "key is W4, value is <tf.Variable 'W4:0' shape=(120, 8) dtype=float32_ref>\n",
            "key is b1, value is <tf.Variable 'b1:0' shape=(128, 1) dtype=float32_ref>\n",
            "key is b2, value is <tf.Variable 'b2:0' shape=(20, 1) dtype=float32_ref>\n",
            "key is b3, value is <tf.Variable 'b3:0' shape=(8, 1) dtype=float32_ref>\n",
            "key is b4, value is <tf.Variable 'b4:0' shape=(120, 1) dtype=float32_ref>\n"
          ],
          "name": "stdout"
        }
      ]
    },
    {
      "metadata": {
        "id": "2wuTtUEyrthQ",
        "colab_type": "code",
        "colab": {}
      },
      "cell_type": "code",
      "source": [
        "def forward_propagation(X, parameters):\n",
        "    \"\"\"\n",
        "    implement forward propagation:\n",
        "    linear->relu->linear->relu->linear->relu->linear->softmax\n",
        "    Z1    ->A1  ->Z2    ->A2  ->Z3    ->A3  ->Z4    ->prediction\n",
        "    \n",
        "    arguments:\n",
        "    X ----------input for placeholder of shape(input size, number of examples) this case(195075,4000)\n",
        "    parameters -python dict containing W1,b1 to W4,b4\n",
        "    \n",
        "    returns:\n",
        "    Z4 ---------output of last layer of linear unit\n",
        "    \"\"\"\n",
        "    ###get parameters\n",
        "    W1 = parameters['W1']\n",
        "    b1 = parameters['b1']\n",
        "    W2 = parameters['W2']\n",
        "    b2 = parameters['b2']\n",
        "    W3 = parameters['W3']\n",
        "    b3 = parameters['b3']\n",
        "    W4 = parameters['W4']\n",
        "    b4 = parameters['b4']\n",
        "    \n",
        "    ###implement functions\n",
        "    Z1 = tf.add(tf.matmul(W1,X),b1)\n",
        "    A1 = tf.nn.relu(Z1)\n",
        "    Z2 = tf.add(tf.matmul(W2,A1),b2)\n",
        "    A2 = tf.nn.relu(Z2)\n",
        "    Z3 = tf.add(tf.matmul(W3,A2),b3)\n",
        "    A3 = tf.nn.relu(Z3)\n",
        "    Z4 = tf.add(tf.matmul(W4,A3),b4)\n",
        "    \n",
        "    return Z4"
      ],
      "execution_count": 0,
      "outputs": []
    },
    {
      "metadata": {
        "id": "2D4BRuWRrtjh",
        "colab_type": "code",
        "outputId": "cae0f32d-72b4-461a-91a9-23da35e35ef6",
        "colab": {
          "base_uri": "https://localhost:8080/",
          "height": 35
        }
      },
      "cell_type": "code",
      "source": [
        "tf.reset_default_graph()\n",
        "\n",
        "with tf.Session() as sess:\n",
        "    X, Y = create_placeholders(195075, 120)\n",
        "    parameters = initialize_parameters()\n",
        "    Z3 = forward_propagation(X, parameters)\n",
        "    print(\"Z3 = \" + str(Z3))"
      ],
      "execution_count": 16,
      "outputs": [
        {
          "output_type": "stream",
          "text": [
            "Z3 = Tensor(\"Add_3:0\", shape=(120, ?), dtype=float32)\n"
          ],
          "name": "stdout"
        }
      ]
    },
    {
      "metadata": {
        "id": "upPOPX2_rtnZ",
        "colab_type": "code",
        "colab": {}
      },
      "cell_type": "code",
      "source": [
        "def compute_cost(Z4,Y):\n",
        "    \"\"\"\n",
        "    compute cost of funtion\n",
        "    \n",
        "    argument:\n",
        "    Z4 -------output for forward prop last layer of linear shape (120,1)\n",
        "    Y --------true label vector placeholder  shape               (120,1)\n",
        "    \n",
        "    return\n",
        "    cost - tensor of the cost function\n",
        "    \"\"\"\n",
        "    \n",
        "    ###in order to use tf.reduce_mean to compute cost we need to find logits and labels first\n",
        "    logits = tf.transpose(Z4)\n",
        "    labels = tf.transpose(Y)\n",
        "    \n",
        "    ###use tf.reduce\n",
        "    cost = tf.reduce_mean(tf.nn.softmax_cross_entropy_with_logits(logits = logits, labels = labels))\n",
        "    \n",
        "    return cost"
      ],
      "execution_count": 0,
      "outputs": []
    },
    {
      "metadata": {
        "id": "knA98MY5yISA",
        "colab_type": "code",
        "outputId": "bbe0d73d-fc9b-4646-d15b-d944aca6796b",
        "colab": {
          "base_uri": "https://localhost:8080/",
          "height": 193
        }
      },
      "cell_type": "code",
      "source": [
        "tf.reset_default_graph()\n",
        "\n",
        "with tf.Session() as sess:\n",
        "    X, Y = create_placeholders(195075, 120)\n",
        "    parameters = initialize_parameters()\n",
        "    Z3 = forward_propagation(X, parameters)\n",
        "    cost = compute_cost(Z3, Y)\n",
        "    print(\"cost = \" + str(cost))"
      ],
      "execution_count": 18,
      "outputs": [
        {
          "output_type": "stream",
          "text": [
            "WARNING:tensorflow:From <ipython-input-17-06fa8c84d3b7>:18: softmax_cross_entropy_with_logits (from tensorflow.python.ops.nn_ops) is deprecated and will be removed in a future version.\n",
            "Instructions for updating:\n",
            "\n",
            "Future major versions of TensorFlow will allow gradients to flow\n",
            "into the labels input on backprop by default.\n",
            "\n",
            "See `tf.nn.softmax_cross_entropy_with_logits_v2`.\n",
            "\n",
            "cost = Tensor(\"Mean:0\", shape=(), dtype=float32)\n"
          ],
          "name": "stdout"
        }
      ]
    },
    {
      "metadata": {
        "id": "mi1fjX-H7O24",
        "colab_type": "code",
        "colab": {}
      },
      "cell_type": "code",
      "source": [
        "def random_mini_batches(X, Y, mini_batch_size = 64, seed = 0): ###from Andrew Ng's class\n",
        "    \"\"\"\n",
        "    Creates a list of random minibatches from (X, Y)\n",
        "    \n",
        "    Arguments:\n",
        "    X -- input data, of shape (input size, number of examples)\n",
        "    Y -- true \"label\" vector (containing 0 if cat, 1 if non-cat), of shape (1, number of examples)\n",
        "    mini_batch_size - size of the mini-batches, integer\n",
        "    seed -- this is only for the purpose of grading, so that you're \"random minibatches are the same as ours.\n",
        "    \n",
        "    Returns:\n",
        "    mini_batches -- list of synchronous (mini_batch_X, mini_batch_Y)\n",
        "    \"\"\"\n",
        "    \n",
        "    m = X.shape[1]                  # number of training examples\n",
        "    mini_batches = []\n",
        "    np.random.seed(seed)\n",
        "    \n",
        "    # Step 1: Shuffle (X, Y)\n",
        "    permutation = list(np.random.permutation(m))\n",
        "    shuffled_X = X[:, permutation]\n",
        "    shuffled_Y = Y[:, permutation].reshape((Y.shape[0],m))\n",
        "\n",
        "    # Step 2: Partition (shuffled_X, shuffled_Y). Minus the end case.\n",
        "    num_complete_minibatches = math.floor(m/mini_batch_size) # number of mini batches of size mini_batch_size in your partitionning\n",
        "    for k in range(0, num_complete_minibatches):\n",
        "        mini_batch_X = shuffled_X[:, k * mini_batch_size : k * mini_batch_size + mini_batch_size]\n",
        "        mini_batch_Y = shuffled_Y[:, k * mini_batch_size : k * mini_batch_size + mini_batch_size]\n",
        "        mini_batch = (mini_batch_X, mini_batch_Y)\n",
        "        mini_batches.append(mini_batch)\n",
        "    \n",
        "    # Handling the end case (last mini-batch < mini_batch_size)\n",
        "    if m % mini_batch_size != 0:\n",
        "        mini_batch_X = shuffled_X[:, num_complete_minibatches * mini_batch_size : m]\n",
        "        mini_batch_Y = shuffled_Y[:, num_complete_minibatches * mini_batch_size : m]\n",
        "        mini_batch = (mini_batch_X, mini_batch_Y)\n",
        "        mini_batches.append(mini_batch)\n",
        "    \n",
        "    return mini_batches\n",
        "\n",
        "def predict(X, parameters):\n",
        "    \n",
        "    W1 = tf.convert_to_tensor(parameters[\"W1\"])\n",
        "    b1 = tf.convert_to_tensor(parameters[\"b1\"])\n",
        "    W2 = tf.convert_to_tensor(parameters[\"W2\"])\n",
        "    b2 = tf.convert_to_tensor(parameters[\"b2\"])\n",
        "    W3 = tf.convert_to_tensor(parameters[\"W3\"])\n",
        "    b3 = tf.convert_to_tensor(parameters[\"b3\"])\n",
        "    \n",
        "    params = {\"W1\": W1,\n",
        "              \"b1\": b1,\n",
        "              \"W2\": W2,\n",
        "              \"b2\": b2,\n",
        "              \"W3\": W3,\n",
        "              \"b3\": b3}\n",
        "    \n",
        "    x = tf.placeholder(\"float\", [12288, 1])\n",
        "    \n",
        "    z3 = forward_propagation_for_predict(x, params)\n",
        "    p = tf.argmax(z3)\n",
        "    \n",
        "    sess = tf.Session()\n",
        "    prediction = sess.run(p, feed_dict = {x: X})\n",
        "        \n",
        "    return prediction"
      ],
      "execution_count": 0,
      "outputs": []
    },
    {
      "metadata": {
        "id": "H9s6ocN-yIUp",
        "colab_type": "code",
        "colab": {}
      },
      "cell_type": "code",
      "source": [
        "def model(X_train,Y_train,X_test,Y_test,learning_rate = 0.0001,\n",
        "         num_epochs = 100, minibatch_size = 32, print_cost = True):\n",
        "    \"\"\"\n",
        "    \n",
        "    arguments:\n",
        "    X_train ---- training set of shape (image vector size = 195075,examples = 4000)\n",
        "    Y_train ---- training set labels shape (number of different flowers = 120,examples = 4000)\n",
        "    X_test ----- test set, shape       (image vector size = 195075,examples = 100)\n",
        "    Y_test ----- test set, shape           (number of different flowers = 120,examples = 100)\n",
        "    \n",
        "    learning_rate -- learning rate of the optimization (all 4 lines from Andrew Ng's hw of deep learning)\n",
        "    num_epochs -- number of epochs of the optimization loop\n",
        "    minibatch_size -- size of a minibatch\n",
        "    print_cost -- True to print the cost every 100 epochs\n",
        "    \n",
        "    Returns:\n",
        "    parameters -- parameters learnt by the model. They can then be used to predict.\n",
        "    \"\"\"\n",
        "    \n",
        "    ###required stuff,seeds, not overwriting variables\n",
        "    ops.reset_default_graph()\n",
        "    tf.set_random_seed(1)\n",
        "    seed = 3\n",
        "    (n_x,m) = X_train.shape\n",
        "    n_y = Y_train.shape[0]\n",
        "    costs = []\n",
        "    \n",
        "    ###create placeholder&initialize model\n",
        "    X,Y = create_placeholders(n_x,n_y)\n",
        "    parameters = initialize_parameters()\n",
        "    \n",
        "    ###forwardprop and compute cost\n",
        "    Z4 = forward_propagation(X,parameters)\n",
        "    cost = compute_cost(Z4,Y)\n",
        "    \n",
        "    ###defind optimizer for backprop, since we want to use minibatch training, we use adamoptimizer\n",
        "    optimizer = tf.train.AdamOptimizer(learning_rate = learning_rate).minimize(cost)\n",
        "    \n",
        "    ###initialize_variables\n",
        "    init = tf.global_variables_initializer()\n",
        "    \n",
        "    ###start tensorflow\n",
        "    with tf.Session() as sess:\n",
        "        sess.run(init)\n",
        "        for epoch in range(num_epochs):\n",
        "            \n",
        "            ###initialize minibatches\n",
        "            epoch_cost = 0.\n",
        "            num_minibatches = int(m / minibatch_size)###number of minibatches\n",
        "            seed += 1\n",
        "            ###initialize list of different minibatches \n",
        "            minibatches = random_mini_batches(X_train,Y_train,minibatch_size,seed)\n",
        "            \n",
        "            for minibatch in minibatches:\n",
        "                \n",
        "                (minibatch_X,minibatch_Y) = minibatch\n",
        "                ### run optimizer and cost function on minibatch\n",
        "                _ , minibatch_cost = sess.run([optimizer, cost], feed_dict={X: minibatch_X, Y: minibatch_Y})\n",
        "                \n",
        "                epoch_cost += minibatch_cost/num_minibatches\n",
        "                \n",
        "            ###print cost\n",
        "            if print_cost == True and epoch % 25 == 0:\n",
        "                print (\"Cost after epoch %i: %f\" % (epoch, epoch_cost))\n",
        "            if print_cost == True and epoch % 5 == 0:\n",
        "                costs.append(epoch_cost)\n",
        "\n",
        "        # plot the cost all *******************************all below from Andrew Ng's Hw on deep learning****************************\n",
        "        plt.plot(np.squeeze(costs))\n",
        "        plt.ylabel('cost')\n",
        "        plt.xlabel('iterations (per tens)')\n",
        "        plt.title(\"Learning rate =\" + str(learning_rate))\n",
        "        plt.show()\n",
        "\n",
        "        # lets save the parameters in a variable\n",
        "        parameters = sess.run(parameters)\n",
        "        print (\"Parameters have been trained!\")\n",
        "\n",
        "        # Calculate the correct predictions\n",
        "        correct_prediction = tf.equal(tf.argmax(Z4), tf.argmax(Y))\n",
        "\n",
        "        # Calculate accuracy on the test set\n",
        "        accuracy = tf.reduce_mean(tf.cast(correct_prediction, \"float\"))\n",
        "\n",
        "        print (\"Train Accuracy:\", accuracy.eval({X: X_train, Y: Y_train}))\n",
        "        print (\"Test Accuracy:\", accuracy.eval({X: X_test, Y: Y_test}))\n",
        "        \n",
        "        return parameters    \n",
        "    \n"
      ],
      "execution_count": 0,
      "outputs": []
    },
    {
      "metadata": {
        "id": "4Xkwu_FzwyIt",
        "colab_type": "code",
        "outputId": "bb5d3a44-9ba1-44a8-c8e8-c4d88c1a334d",
        "colab": {
          "base_uri": "https://localhost:8080/",
          "height": 52
        }
      },
      "cell_type": "code",
      "source": [
        "np.random.seed(1)\n",
        "X_train = training_data\n",
        "Y_train = training_data_label\n",
        "print (\"X_train shape: \" + str(X_train.shape))\n",
        "print (\"Y_train shape: \" + str(Y_train.shape))\n"
      ],
      "execution_count": 21,
      "outputs": [
        {
          "output_type": "stream",
          "text": [
            "X_train shape: (195075, 2000)\n",
            "Y_train shape: (120, 2000)\n"
          ],
          "name": "stdout"
        }
      ]
    },
    {
      "metadata": {
        "id": "IL0fTvzbwyLf",
        "colab_type": "code",
        "outputId": "bef236f8-443a-4f94-9f71-cb6af4c4a716",
        "colab": {
          "base_uri": "https://localhost:8080/",
          "height": 52
        }
      },
      "cell_type": "code",
      "source": [
        "###generate test set from 2000 training examples\n",
        "np.random.seed(1)\n",
        "randintlist = np.random.choice(2000, 100,replace=False)\n",
        "X_test = np.zeros((195075,100))\n",
        "Y_test = np.zeros((120,100))\n",
        "\n",
        "for i in range(100):\n",
        "    X_test[:,i] = X_train[:,randintlist[i]]\n",
        "    Y_test[:,i] = Y_train[:,randintlist[i]]\n",
        "\n",
        "print (\"X_test shape: \" + str(X_test.shape))\n",
        "print (\"Y_test shape: \" + str(Y_test.shape))"
      ],
      "execution_count": 22,
      "outputs": [
        {
          "output_type": "stream",
          "text": [
            "X_test shape: (195075, 100)\n",
            "Y_test shape: (120, 100)\n"
          ],
          "name": "stdout"
        }
      ]
    },
    {
      "metadata": {
        "id": "S9uKx60RwyOT",
        "colab_type": "code",
        "outputId": "cb7115bc-fca0-4757-e529-144005efef0c",
        "colab": {
          "base_uri": "https://localhost:8080/",
          "height": 498
        }
      },
      "cell_type": "code",
      "source": [
        "parameters = model(X_train, Y_train, X_test, Y_test)"
      ],
      "execution_count": 23,
      "outputs": [
        {
          "output_type": "stream",
          "text": [
            "Cost after epoch 0: 12.961980\n",
            "Cost after epoch 25: 4.610982\n",
            "Cost after epoch 50: 4.370793\n",
            "Cost after epoch 75: 4.143728\n"
          ],
          "name": "stdout"
        },
        {
          "output_type": "display_data",
          "data": {
            "image/png": "[encoded data removed]",
            "text/plain": [
              "<matplotlib.figure.Figure at 0x7fe28bd97128>"
            ]
          },
          "metadata": {
            "tags": []
          }
        },
        {
          "output_type": "stream",
          "text": [
            "Parameters have been trained!\n",
            "Train Accuracy: 0.1255\n",
            "Test Accuracy: 0.11\n"
          ],
          "name": "stdout"
        }
      ]
    },
    {
      "metadata": {
        "id": "QZMn68qpyIX-",
        "colab_type": "code",
        "colab": {}
      },
      "cell_type": "code",
      "source": [
        ""
      ],
      "execution_count": 0,
      "outputs": []
    },
    {
      "metadata": {
        "id": "yWErkDpCd45r",
        "colab_type": "code",
        "colab": {}
      },
      "cell_type": "code",
      "source": [
        ""
      ],
      "execution_count": 0,
      "outputs": []
    },
    {
      "metadata": {
        "id": "aURHemijyIam",
        "colab_type": "code",
        "colab": {}
      },
      "cell_type": "code",
      "source": [
        ""
      ],
      "execution_count": 0,
      "outputs": []
    },
    {
      "metadata": {
        "id": "20ipQuYkyIhE",
        "colab_type": "code",
        "colab": {}
      },
      "cell_type": "code",
      "source": [
        ""
      ],
      "execution_count": 0,
      "outputs": []
    },
    {
      "metadata": {
        "id": "7y_hapXYu-MU",
        "colab_type": "code",
        "colab": {
          "base_uri": "https://localhost:8080/",
          "height": 236
        },
        "outputId": "88bbb33f-11e4-4bd6-bc3a-1ffb0def888d"
      },
      "cell_type": "code",
      "source": [
        "img = PIL.Image.open(BytesIO(uploaded[\"image_00001.jpg\"]))\n",
        "print(img)\n",
        "pic1 = np.array(img)\n",
        "pic1.shape\n",
        "flat1 = pic1.reshape(pic1.shape[0]*pic1.shape[1]*pic1.shape[2],-1)\n",
        "print(flat1.shape)\n",
        "flat1[1]"
      ],
      "execution_count": 24,
      "outputs": [
        {
          "output_type": "error",
          "ename": "NameError",
          "evalue": "ignored",
          "traceback": [
            "\u001b[0;31m---------------------------------------------------------------------------\u001b[0m",
            "\u001b[0;31mNameError\u001b[0m                                 Traceback (most recent call last)",
            "\u001b[0;32m<ipython-input-24-181ad3bfffab>\u001b[0m in \u001b[0;36m<module>\u001b[0;34m()\u001b[0m\n\u001b[0;32m----> 1\u001b[0;31m \u001b[0mimg\u001b[0m \u001b[0;34m=\u001b[0m \u001b[0mPIL\u001b[0m\u001b[0;34m.\u001b[0m\u001b[0mImage\u001b[0m\u001b[0;34m.\u001b[0m\u001b[0mopen\u001b[0m\u001b[0;34m(\u001b[0m\u001b[0mBytesIO\u001b[0m\u001b[0;34m(\u001b[0m\u001b[0muploaded\u001b[0m\u001b[0;34m[\u001b[0m\u001b[0;34m\"image_00001.jpg\"\u001b[0m\u001b[0;34m]\u001b[0m\u001b[0;34m)\u001b[0m\u001b[0;34m)\u001b[0m\u001b[0;34m\u001b[0m\u001b[0;34m\u001b[0m\u001b[0m\n\u001b[0m\u001b[1;32m      2\u001b[0m \u001b[0mprint\u001b[0m\u001b[0;34m(\u001b[0m\u001b[0mimg\u001b[0m\u001b[0;34m)\u001b[0m\u001b[0;34m\u001b[0m\u001b[0;34m\u001b[0m\u001b[0m\n\u001b[1;32m      3\u001b[0m \u001b[0mpic1\u001b[0m \u001b[0;34m=\u001b[0m \u001b[0mnp\u001b[0m\u001b[0;34m.\u001b[0m\u001b[0marray\u001b[0m\u001b[0;34m(\u001b[0m\u001b[0mimg\u001b[0m\u001b[0;34m)\u001b[0m\u001b[0;34m\u001b[0m\u001b[0;34m\u001b[0m\u001b[0m\n\u001b[1;32m      4\u001b[0m \u001b[0mpic1\u001b[0m\u001b[0;34m.\u001b[0m\u001b[0mshape\u001b[0m\u001b[0;34m\u001b[0m\u001b[0;34m\u001b[0m\u001b[0m\n\u001b[1;32m      5\u001b[0m \u001b[0mflat1\u001b[0m \u001b[0;34m=\u001b[0m \u001b[0mpic1\u001b[0m\u001b[0;34m.\u001b[0m\u001b[0mreshape\u001b[0m\u001b[0;34m(\u001b[0m\u001b[0mpic1\u001b[0m\u001b[0;34m.\u001b[0m\u001b[0mshape\u001b[0m\u001b[0;34m[\u001b[0m\u001b[0;36m0\u001b[0m\u001b[0;34m]\u001b[0m\u001b[0;34m*\u001b[0m\u001b[0mpic1\u001b[0m\u001b[0;34m.\u001b[0m\u001b[0mshape\u001b[0m\u001b[0;34m[\u001b[0m\u001b[0;36m1\u001b[0m\u001b[0;34m]\u001b[0m\u001b[0;34m*\u001b[0m\u001b[0mpic1\u001b[0m\u001b[0;34m.\u001b[0m\u001b[0mshape\u001b[0m\u001b[0;34m[\u001b[0m\u001b[0;36m2\u001b[0m\u001b[0;34m]\u001b[0m\u001b[0;34m,\u001b[0m\u001b[0;34m-\u001b[0m\u001b[0;36m1\u001b[0m\u001b[0;34m)\u001b[0m\u001b[0;34m\u001b[0m\u001b[0;34m\u001b[0m\u001b[0m\n",
            "\u001b[0;31mNameError\u001b[0m: name 'uploaded' is not defined"
          ]
        }
      ]
    }
  ]
}